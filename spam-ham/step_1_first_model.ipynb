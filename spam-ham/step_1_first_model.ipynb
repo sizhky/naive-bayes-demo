{
  "nbformat": 4,
  "nbformat_minor": 0,
  "metadata": {
    "colab": {
      "name": "step-1-first-model.ipynb",
      "provenance": [],
      "collapsed_sections": [],
      "authorship_tag": "ABX9TyNAvS7t43sdZUOrLdWEMZ/F",
      "include_colab_link": true
    },
    "kernelspec": {
      "name": "python3",
      "display_name": "Python 3"
    },
    "language_info": {
      "name": "python"
    }
  },
  "cells": [
    {
      "cell_type": "markdown",
      "metadata": {
        "id": "view-in-github",
        "colab_type": "text"
      },
      "source": [
        "<a href=\"https://colab.research.google.com/github/sizhky/naive-bayes-demo/blob/main/spam-ham/step_1_first_model.ipynb\" target=\"_parent\"><img src=\"https://colab.research.google.com/assets/colab-badge.svg\" alt=\"Open In Colab\"/></a>"
      ]
    },
    {
      "cell_type": "code",
      "metadata": {
        "id": "e-ciqa4--dBX"
      },
      "source": [
        "%%capture\n",
        "!pip install torch_snippets"
      ],
      "execution_count": null,
      "outputs": []
    },
    {
      "cell_type": "code",
      "metadata": {
        "colab": {
          "base_uri": "https://localhost:8080/"
        },
        "id": "ol0YXrc1uaTl",
        "outputId": "e295e708-c150-4377-c1fb-5347dce34aa6"
      },
      "source": [
        "## Setup and imports\n",
        "import os\n",
        "from pathlib import Path\n",
        "import urllib.request\n",
        "import pandas as pd\n",
        "from sklearn.model_selection import train_test_split\n",
        "from torch_snippets import unzip_file"
      ],
      "execution_count": null,
      "outputs": [
        {
          "output_type": "stream",
          "text": [
            "2021-07-29 05:57:58.436 | WARNING  | torch_snippets.torch_loader:<module>:233 - Not importing Lightning Report\n",
            "2021-07-29 05:57:58.444 | WARNING  | torch_snippets:<module>:13 - sklearn is not found. Skipping relevant imports from submodule `sklegos`\n",
            "Exception: No module named 'sklego'\n"
          ],
          "name": "stderr"
        }
      ]
    },
    {
      "cell_type": "code",
      "metadata": {
        "id": "sWZ8DXXp2aCi"
      },
      "source": [
        "if not os.path.exists('SMSSpamCollection'):\n",
        "    urllib.request.urlretrieve (\"https://archive.ics.uci.edu/ml/machine-learning-databases/00228/smsspamcollection.zip\", \"smsspamcollection.zip\")\n",
        "    # Extracting the dataset\n",
        "    unzip_file('smsspamcollection.zip', './')"
      ],
      "execution_count": null,
      "outputs": []
    },
    {
      "cell_type": "code",
      "metadata": {
        "id": "7k9CuOar2XZc"
      },
      "source": [
        "df = pd.read_csv('SMSSpamCollection', sep='\\t', header=None)\n",
        "df.columns = ['class','content']\n",
        "trn_df, val_df = train_test_split(df, random_state=10)"
      ],
      "execution_count": 10,
      "outputs": []
    },
    {
      "cell_type": "code",
      "metadata": {
        "id": "dXOeCna5hkxf",
        "colab": {
          "base_uri": "https://localhost:8080/"
        },
        "outputId": "0561ed1d-8e9b-4f04-bf44-11690cd7751e"
      },
      "source": [
        "from sklearn.feature_extraction.text import CountVectorizer\n",
        "from sklearn.naive_bayes import MultinomialNB\n",
        "import numpy as np\n",
        "\n",
        "vectorizer = CountVectorizer()\n",
        "vectorizer.fit(trn_df['content'])\n",
        "trn = vectorizer.transform(trn_df['content']).todense()\n",
        "val = vectorizer.transform(val_df['content']).todense()\n",
        "words = vectorizer.get_feature_names()\n",
        "\n",
        "nb = MultinomialNB()\n",
        "nb.fit(trn, trn_df['class'])"
      ],
      "execution_count": 15,
      "outputs": [
        {
          "output_type": "execute_result",
          "data": {
            "text/plain": [
              "MultinomialNB(alpha=1.0, class_prior=None, fit_prior=True)"
            ]
          },
          "metadata": {
            "tags": []
          },
          "execution_count": 15
        }
      ]
    },
    {
      "cell_type": "code",
      "metadata": {
        "colab": {
          "base_uri": "https://localhost:8080/"
        },
        "id": "V5Oj_LLLxpO7",
        "outputId": "bcb809c3-2ea4-455d-a80c-a0ac9ca43fdc"
      },
      "source": [
        "from sklearn.metrics import confusion_matrix, classification_report\n",
        "classes = ['ham','spam']\n",
        "\n",
        "_y = nb.predict(val)\n",
        "y = val_df['class']\n",
        "\n",
        "print(confusion_matrix(y, _y))\n",
        "print(classification_report(y, _y))\n",
        "\n",
        "feature_probs = np.array(nb.feature_log_prob_)\n",
        "\n",
        "k = 15\n",
        "for i in range(len(feature_probs)):\n",
        "    print(f'Top {k} features for {classes[i]}')\n",
        "    _f = np.argsort(feature_probs[i])[-k:]\n",
        "    print([words[j] for j in _f])"
      ],
      "execution_count": 16,
      "outputs": [
        {
          "output_type": "stream",
          "text": [
            "[[1209    6]\n",
            " [  19  159]]\n",
            "              precision    recall  f1-score   support\n",
            "\n",
            "         ham       0.98      1.00      0.99      1215\n",
            "        spam       0.96      0.89      0.93       178\n",
            "\n",
            "    accuracy                           0.98      1393\n",
            "   macro avg       0.97      0.94      0.96      1393\n",
            "weighted avg       0.98      0.98      0.98      1393\n",
            "\n",
            "Top 15 features for ham\n",
            "['can', 'not', 'have', 'of', 'for', 'that', 'it', 'is', 'my', 'me', 'in', 'and', 'the', 'to', 'you']\n",
            "Top 15 features for spam\n",
            "['from', 'ur', 'have', 'on', 'is', 'txt', 'or', 'now', 'for', 'the', 'free', 'your', 'you', 'call', 'to']\n"
          ],
          "name": "stdout"
        }
      ]
    },
    {
      "cell_type": "code",
      "metadata": {
        "id": "ikljwUYBzqit"
      },
      "source": [
        ""
      ],
      "execution_count": null,
      "outputs": []
    }
  ]
}