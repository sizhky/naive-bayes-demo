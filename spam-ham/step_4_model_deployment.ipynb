{
  "nbformat": 4,
  "nbformat_minor": 0,
  "metadata": {
    "colab": {
      "name": "step-4-model-deployment.ipynb",
      "provenance": [],
      "collapsed_sections": [],
      "authorship_tag": "ABX9TyNHh576dBcfQ/ndGcp9IqZO",
      "include_colab_link": true
    },
    "kernelspec": {
      "name": "python3",
      "display_name": "Python 3"
    },
    "language_info": {
      "name": "python"
    }
  },
  "cells": [
    {
      "cell_type": "markdown",
      "metadata": {
        "id": "view-in-github",
        "colab_type": "text"
      },
      "source": [
        "<a href=\"https://colab.research.google.com/github/sizhky/naive-bayes-demo/blob/main/spam-ham/step_4_model_deployment.ipynb\" target=\"_parent\"><img src=\"https://colab.research.google.com/assets/colab-badge.svg\" alt=\"Open In Colab\"/></a>"
      ]
    },
    {
      "cell_type": "code",
      "metadata": {
        "id": "e-ciqa4--dBX"
      },
      "source": [
        "%%capture\n",
        "!pip install torch_snippets"
      ],
      "execution_count": 1,
      "outputs": []
    },
    {
      "cell_type": "markdown",
      "metadata": {
        "id": "sA0S7lAsuecZ"
      },
      "source": [
        "At this point we have the best model, vectorizer and model-paramter for our task. Final step is to create a class that can be used in production. Typically, in production scenario, we want to expose a one line function that takes inputs and returns outputs in readable format. Most of the time, this one line function will be used to expose an API, but we will not do that. We will only have code necessary to train and create a predict function"
      ]
    },
    {
      "cell_type": "code",
      "metadata": {
        "colab": {
          "base_uri": "https://localhost:8080/"
        },
        "id": "ol0YXrc1uaTl",
        "outputId": "4a768fcd-0c70-4de6-af45-9fb6912ea7f1"
      },
      "source": [
        "## Setup and imports\n",
        "import os\n",
        "from pathlib import Path\n",
        "import urllib.request\n",
        "import pandas as pd\n",
        "from sklearn.model_selection import train_test_split\n",
        "from torch_snippets import unzip_file\n",
        "\n",
        "if not os.path.exists('SMSSpamCollection'):\n",
        "    urllib.request.urlretrieve (\"https://archive.ics.uci.edu/ml/machine-learning-databases/00228/smsspamcollection.zip\", \"smsspamcollection.zip\")\n",
        "    # Extracting the dataset\n",
        "    unzip_file('smsspamcollection.zip', './')"
      ],
      "execution_count": 2,
      "outputs": [
        {
          "output_type": "stream",
          "text": [
            "2021-07-29 05:54:57.502 | WARNING  | torch_snippets.torch_loader:<module>:233 - Not importing Lightning Report\n",
            "2021-07-29 05:54:57.507 | WARNING  | torch_snippets:<module>:13 - sklearn is not found. Skipping relevant imports from submodule `sklegos`\n",
            "Exception: No module named 'sklego'\n"
          ],
          "name": "stderr"
        }
      ]
    },
    {
      "cell_type": "code",
      "metadata": {
        "id": "dXOeCna5hkxf"
      },
      "source": [
        "from sklearn.feature_extraction.text import CountVectorizer\n",
        "from sklearn.naive_bayes import MultinomialNB\n",
        "import numpy as np\n",
        "\n",
        "class SpamDetector:\n",
        "    classes = [\"HAM\", \"SPAM\"]\n",
        "    vectorizer = CountVectorizer(\n",
        "        stop_words='english'\n",
        "    )\n",
        "\n",
        "    df = pd.read_csv('SMSSpamCollection', sep='\\t', header=None)\n",
        "    df.columns = ['class','content']\n",
        "    trn_df, val_df = train_test_split(df)\n",
        "\n",
        "    vectorizer.fit(trn_df['content'])\n",
        "    trn = vectorizer.transform(trn_df['content']).todense()\n",
        "    val = vectorizer.transform(val_df['content']).todense()\n",
        "\n",
        "    nb = MultinomialNB(alpha=0.3)\n",
        "    nb.fit(trn, trn_df['class'])\n",
        "\n",
        "    def predict(self, sentence):\n",
        "        if isinstance(sentence, str):\n",
        "            sentence = [sentence]\n",
        "        test = self.vectorizer.transform(sentence).todense()\n",
        "        print(sentence)\n",
        "        df = pd.DataFrame({\n",
        "            'input': sentence,\n",
        "            'prediction': self.nb.predict(test), \n",
        "            'confidence': self.nb.predict_proba(test).max(-1)\n",
        "        })\n",
        "        return df\n",
        "\n",
        "detector = SpamDetector()"
      ],
      "execution_count": 3,
      "outputs": []
    },
    {
      "cell_type": "code",
      "metadata": {
        "colab": {
          "base_uri": "https://localhost:8080/",
          "height": 130
        },
        "id": "V5Oj_LLLxpO7",
        "outputId": "e448db3b-36d0-4b32-909a-78ea51ab380c"
      },
      "source": [
        "detector.predict(['Happy new year', 'Free mobile offer, hurry up'])"
      ],
      "execution_count": 4,
      "outputs": [
        {
          "output_type": "stream",
          "text": [
            "['Happy new year', 'Free mobile offer, hurry up']\n"
          ],
          "name": "stdout"
        },
        {
          "output_type": "execute_result",
          "data": {
            "text/html": [
              "<div>\n",
              "<style scoped>\n",
              "    .dataframe tbody tr th:only-of-type {\n",
              "        vertical-align: middle;\n",
              "    }\n",
              "\n",
              "    .dataframe tbody tr th {\n",
              "        vertical-align: top;\n",
              "    }\n",
              "\n",
              "    .dataframe thead th {\n",
              "        text-align: right;\n",
              "    }\n",
              "</style>\n",
              "<table border=\"1\" class=\"dataframe\">\n",
              "  <thead>\n",
              "    <tr style=\"text-align: right;\">\n",
              "      <th></th>\n",
              "      <th>input</th>\n",
              "      <th>prediction</th>\n",
              "      <th>confidence</th>\n",
              "    </tr>\n",
              "  </thead>\n",
              "  <tbody>\n",
              "    <tr>\n",
              "      <th>0</th>\n",
              "      <td>Happy new year</td>\n",
              "      <td>ham</td>\n",
              "      <td>0.994726</td>\n",
              "    </tr>\n",
              "    <tr>\n",
              "      <th>1</th>\n",
              "      <td>Free mobile offer, hurry up</td>\n",
              "      <td>spam</td>\n",
              "      <td>0.992890</td>\n",
              "    </tr>\n",
              "  </tbody>\n",
              "</table>\n",
              "</div>"
            ],
            "text/plain": [
              "                         input prediction  confidence\n",
              "0               Happy new year        ham    0.994726\n",
              "1  Free mobile offer, hurry up       spam    0.992890"
            ]
          },
          "metadata": {
            "tags": []
          },
          "execution_count": 4
        }
      ]
    },
    {
      "cell_type": "code",
      "metadata": {
        "id": "ikljwUYBzqit"
      },
      "source": [
        ""
      ],
      "execution_count": 4,
      "outputs": []
    }
  ]
}